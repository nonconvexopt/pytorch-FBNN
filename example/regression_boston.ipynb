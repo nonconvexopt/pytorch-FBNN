{
 "cells": [
  {
   "cell_type": "code",
   "execution_count": 16,
   "id": "0c6e929c-dabd-4262-aded-f0c1ad40c13d",
   "metadata": {},
   "outputs": [],
   "source": [
    "import torch.nn as nn\n",
    "import gpytorch\n",
    "from sklearn.datasets import load_boston"
   ]
  },
  {
   "cell_type": "code",
   "execution_count": 7,
   "id": "5362439a-d54a-4c41-8473-95f8af122814",
   "metadata": {},
   "outputs": [],
   "source": [
    "data = load_boston()"
   ]
  },
  {
   "cell_type": "code",
   "execution_count": 10,
   "id": "eb893f51-ff4b-4c97-9c44-d896d9f8c754",
   "metadata": {},
   "outputs": [],
   "source": [
    "X = data['data']\n",
    "y = data['target']"
   ]
  },
  {
   "cell_type": "code",
   "execution_count": 11,
   "id": "58288f80-2990-4e40-87f7-58a4365923b7",
   "metadata": {},
   "outputs": [],
   "source": [
    "import gpytorch"
   ]
  },
  {
   "cell_type": "code",
   "execution_count": 15,
   "id": "5ce72e73-c4db-461b-a954-a006500be7c7",
   "metadata": {},
   "outputs": [
    {
     "data": {
      "text/plain": [
       "gpytorch.models.exact_gp.ExactGP"
      ]
     },
     "execution_count": 15,
     "metadata": {},
     "output_type": "execute_result"
    }
   ],
   "source": [
    "gpytorch.models.ExactGP"
   ]
  },
  {
   "cell_type": "code",
   "execution_count": null,
   "id": "abb8e4e7-3cac-42c0-8613-15b4d9c9a9e0",
   "metadata": {},
   "outputs": [],
   "source": [
    "likelihood = gpytorch.likelihoods.GaussianLikelihood()\n",
    "likelihood.train()\n"
   ]
  },
  {
   "cell_type": "code",
   "execution_count": null,
   "id": "fdda97be-811f-4214-943b-beae07b07cb6",
   "metadata": {},
   "outputs": [],
   "source": [
    "mll = gpytorch.mlls.ExactMarginalLogLikelihood(likelihood, model)\n"
   ]
  },
  {
   "cell_type": "code",
   "execution_count": null,
   "id": "d217b635-3fca-4c25-ae61-893470b8daeb",
   "metadata": {},
   "outputs": [],
   "source": [
    "def train():\n",
    "    iterator = tqdm.notebook.tqdm(range(training_iterations))\n",
    "    for i in iterator:\n",
    "        # Zero backprop gradients\n",
    "        optimizer.zero_grad()\n",
    "        # Get output from model\n",
    "        output = model(train_x)\n",
    "        # Calc loss and backprop derivatives\n",
    "        loss = -mll(output, train_y)\n",
    "        loss.backward()\n",
    "        iterator.set_postfix(loss=loss.item())\n",
    "        optimizer.step()"
   ]
  },
  {
   "cell_type": "code",
   "execution_count": null,
   "id": "6887a08f-8306-4709-bdf6-146994f9ec06",
   "metadata": {},
   "outputs": [],
   "source": [
    "class GP_prior(gpytorch.models.ExactGP):\n",
    "    def __init__(self, train_x, train_y, likelihood, kld_scale):\n",
    "        super(GP_prior, self).__init__(train_x, train_y, likelihood)\n",
    "        self.mean_module = gpytorch.means.ConstantMean()\n",
    "        self.cov_module = gpytorch.kernels.ScaleKernel(\n",
    "            gpytorch.kernels.RBFKernel(\n",
    "                ard_num_dims = train_x.shape[-1]\n",
    "            )\n",
    "        )\n",
    "        self.cov_module.initialize_from_data(train_x, train_y)\n",
    "\n",
    "    def forward(self, x):\n",
    "        return gpytorch.distributions.MultivariateNormal(\n",
    "            self.mean_module(x),\n",
    "            self.cov_module(x),\n",
    "        )"
   ]
  }
 ],
 "metadata": {
  "kernelspec": {
   "display_name": "Python 3 (ipykernel)",
   "language": "python",
   "name": "python3"
  },
  "language_info": {
   "codemirror_mode": {
    "name": "ipython",
    "version": 3
   },
   "file_extension": ".py",
   "mimetype": "text/x-python",
   "name": "python",
   "nbconvert_exporter": "python",
   "pygments_lexer": "ipython3",
   "version": "3.9.7"
  },
  "widgets": {
   "application/vnd.jupyter.widget-state+json": {
    "state": {},
    "version_major": 2,
    "version_minor": 0
   }
  }
 },
 "nbformat": 4,
 "nbformat_minor": 5
}
