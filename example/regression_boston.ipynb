{
 "cells": [
  {
   "cell_type": "code",
   "execution_count": 1,
   "id": "0c6e929c-dabd-4262-aded-f0c1ad40c13d",
   "metadata": {},
   "outputs": [],
   "source": [
    "import torch\n",
    "import torch.nn as nn\n",
    "import torch.nn.functional as F\n",
    "import tqdm\n",
    "import gpytorch\n",
    "import timm\n",
    "from sklearn.datasets import load_boston\n",
    "from sklearn.model_selection import train_test_split"
   ]
  },
  {
   "cell_type": "code",
   "execution_count": 2,
   "id": "5362439a-d54a-4c41-8473-95f8af122814",
   "metadata": {},
   "outputs": [
    {
     "name": "stderr",
     "output_type": "stream",
     "text": [
      "/home/nonconvexopt/.local/lib/python3.9/site-packages/sklearn/utils/deprecation.py:87: FutureWarning: Function load_boston is deprecated; `load_boston` is deprecated in 1.0 and will be removed in 1.2.\n",
      "\n",
      "    The Boston housing prices dataset has an ethical problem. You can refer to\n",
      "    the documentation of this function for further details.\n",
      "\n",
      "    The scikit-learn maintainers therefore strongly discourage the use of this\n",
      "    dataset unless the purpose of the code is to study and educate about\n",
      "    ethical issues in data science and machine learning.\n",
      "\n",
      "    In this case special case, you can fetch the dataset from the original\n",
      "    source::\n",
      "\n",
      "        import pandas as pd\n",
      "        import numpy as np\n",
      "\n",
      "\n",
      "        data_url = \"http://lib.stat.cmu.edu/datasets/boston\"\n",
      "        raw_df = pd.read_csv(data_url, sep=\"\\s+\", skiprows=22, header=None)\n",
      "        data = np.hstack([raw_df.values[::2, :], raw_df.values[1::2, :2]])\n",
      "        target = raw_df.values[1::2, 2]\n",
      "\n",
      "    Alternative datasets include the California housing dataset (i.e.\n",
      "    func:`~sklearn.datasets.fetch_california_housing`) and the Ames housing\n",
      "    dataset. You can load the datasets as follows:\n",
      "\n",
      "        from sklearn.datasets import fetch_california_housing\n",
      "        housing = fetch_california_housing()\n",
      "\n",
      "    for the California housing dataset and:\n",
      "\n",
      "        from sklearn.datasets import fetch_openml\n",
      "        housing = fetch_openml(name=\"house_prices\", as_frame=True)\n",
      "\n",
      "    for the Ames housing dataset.\n",
      "    \n",
      "  warnings.warn(msg, category=FutureWarning)\n"
     ]
    }
   ],
   "source": [
    "data = load_boston()"
   ]
  },
  {
   "cell_type": "code",
   "execution_count": 3,
   "id": "eb893f51-ff4b-4c97-9c44-d896d9f8c754",
   "metadata": {},
   "outputs": [],
   "source": [
    "def standarize(x):\n",
    "    return (x - x.mean(0, keepdims = True))/x.std(0, keepdims = True)\n",
    "\n",
    "X = data['data']\n",
    "Y = data['target']\n",
    "X_train, X_test, Y_train, Y_test = train_test_split(X, Y, test_size = 0.2, random_state=5)\n",
    "X_train = standarize(torch.from_numpy(X_train)).to(torch.float32)\n",
    "Y_train = standarize(torch.from_numpy(Y_train)).to(torch.float32)\n",
    "X_test = standarize(torch.from_numpy(X_test)).to(torch.float32)\n",
    "Y_test = standarize(torch.from_numpy(Y_test)).to(torch.float32)"
   ]
  },
  {
   "cell_type": "code",
   "execution_count": 4,
   "id": "1f018919-08a0-4662-b1d6-8c3b404f6b92",
   "metadata": {},
   "outputs": [],
   "source": [
    "class GP_prior(gpytorch.models.ExactGP):\n",
    "    def __init__(\n",
    "        self,\n",
    "        train_x: torch.Tensor,\n",
    "        train_y: torch.Tensor,\n",
    "        likelihood: gpytorch.likelihoods.Likelihood,\n",
    "    ):\n",
    "        super(GP_prior, self).__init__(train_x, train_y, likelihood)\n",
    "        self.mean_module = gpytorch.means.ConstantMean()\n",
    "        self.cov_module = gpytorch.kernels.AdditiveKernel(\n",
    "            gpytorch.kernels.ScaleKernel(\n",
    "                gpytorch.kernels.RBFKernel(\n",
    "                    ard_num_dims = train_x.shape[-1]\n",
    "                )\n",
    "            ),\n",
    "            gpytorch.kernels.ScaleKernel(\n",
    "                gpytorch.kernels.PeriodicKernel(\n",
    "\n",
    "                )\n",
    "            )\n",
    "        )\n",
    "\n",
    "    def forward(self, x):\n",
    "        return gpytorch.distributions.MultivariateNormal(\n",
    "            self.mean_module(x),\n",
    "            self.cov_module(x),\n",
    "        )"
   ]
  },
  {
   "cell_type": "code",
   "execution_count": 8,
   "id": "ec306c69-0384-4430-ba86-2090ba61401e",
   "metadata": {},
   "outputs": [],
   "source": [
    "class GP_prior(gpytorch.models.ExactGP):\n",
    "    def __init__(\n",
    "        self,\n",
    "        train_x: torch.Tensor,\n",
    "        train_y: torch.Tensor,\n",
    "        likelihood: gpytorch.likelihoods.Likelihood,\n",
    "    ):\n",
    "        super(GP_prior, self).__init__(train_x, train_y, likelihood)\n",
    "        self.mean_module = gpytorch.means.ConstantMean()\n",
    "        self.cov_module = gpytorch.kernels.LinearKernel()\n",
    "\n",
    "\n",
    "    def forward(self, x):\n",
    "        return gpytorch.distributions.MultivariateNormal(\n",
    "            self.mean_module(x),\n",
    "            self.cov_module(F.gelu(x)),\n",
    "        )"
   ]
  },
  {
   "cell_type": "code",
   "execution_count": 9,
   "id": "abb8e4e7-3cac-42c0-8613-15b4d9c9a9e0",
   "metadata": {},
   "outputs": [],
   "source": [
    "likelihood = gpytorch.likelihoods.GaussianLikelihood()\n",
    "likelihood.train()\n",
    "model = GP_prior(\n",
    "    X_train,\n",
    "    Y_train,\n",
    "    likelihood\n",
    ")\n",
    "mll = gpytorch.mlls.ExactMarginalLogLikelihood(likelihood, model)"
   ]
  },
  {
   "cell_type": "code",
   "execution_count": 13,
   "id": "947d21cf-3e00-46d1-bd1a-cff3a607b84f",
   "metadata": {},
   "outputs": [
    {
     "data": {
      "application/vnd.jupyter.widget-view+json": {
       "model_id": "1e40dd4176fa4c5bb92a0eb9b26bf819",
       "version_major": 2,
       "version_minor": 0
      },
      "text/plain": [
       "  0%|          | 0/50 [00:00<?, ?it/s]"
      ]
     },
     "metadata": {},
     "output_type": "display_data"
    }
   ],
   "source": [
    "#optimizer = torch.optim.Adam(model.parameters(), lr = 1e-2)\n",
    "optimizer = torch.optim.LBFGS(model.parameters(), lr = 1e-6)\n",
    "\n",
    "iterator = tqdm.notebook.tqdm(range(50))\n",
    "for ind in iterator:\n",
    "    def closure():\n",
    "        optimizer.zero_grad()\n",
    "        loss = -mll(model(X_train), Y_train)\n",
    "        loss.backward()\n",
    "        return loss\n",
    "    loss = optimizer.step(closure)\n",
    "    iterator.set_postfix(loss=loss.item())"
   ]
  },
  {
   "cell_type": "code",
   "execution_count": null,
   "id": "92bb6dab-78ef-475f-beb0-6e21c50fd510",
   "metadata": {},
   "outputs": [],
   "source": []
  },
  {
   "cell_type": "markdown",
   "id": "bdadd560-a1c8-4dc4-b753-e97b537ab34d",
   "metadata": {
    "tags": []
   },
   "source": [
    "<h3>Random inducing</h3>"
   ]
  },
  {
   "cell_type": "markdown",
   "id": "5933fedd-316a-49ca-a415-ab42d5c9fcbc",
   "metadata": {
    "tags": []
   },
   "source": [
    "<h3>Adversarial inducing</h3>"
   ]
  },
  {
   "cell_type": "markdown",
   "id": "b8548af8-fa50-4cfb-9e77-287be409d66f",
   "metadata": {
    "tags": []
   },
   "source": [
    "<h3>Test input as inducing</h3>"
   ]
  },
  {
   "cell_type": "code",
   "execution_count": 14,
   "id": "8100bf0a-164f-4a2f-ad96-217784d4ca0a",
   "metadata": {},
   "outputs": [
    {
     "data": {
      "text/plain": [
       "torch.Size([404, 13])"
      ]
     },
     "execution_count": 14,
     "metadata": {},
     "output_type": "execute_result"
    }
   ],
   "source": [
    "X_train.shape"
   ]
  },
  {
   "cell_type": "code",
   "execution_count": 15,
   "id": "525b46d2-1f54-4159-abf4-ea398deb7b91",
   "metadata": {},
   "outputs": [
    {
     "data": {
      "text/plain": [
       "torch.Size([404])"
      ]
     },
     "execution_count": 15,
     "metadata": {},
     "output_type": "execute_result"
    }
   ],
   "source": [
    "Y_train.shape"
   ]
  },
  {
   "cell_type": "code",
   "execution_count": 52,
   "id": "ca9c106d-96b8-4d1d-9cbf-abd1c01eea0a",
   "metadata": {},
   "outputs": [],
   "source": [
    "class ffn(nn.Module):\n",
    "    def __init__(self):\n",
    "        super(ffn, self).__init__()\n",
    "        self.l1 = nn.Linear(13, 50, bias = True)\n",
    "        self.l2 = nn.Linear(50, 1)\n",
    "        \n",
    "    def forward(self, x):\n",
    "        x = F.relu(self.l1(x))\n",
    "        x = self.l2(x)\n",
    "        return x\n",
    "\n",
    "#net_fn = timm.create_model('mixer_b16_224', pretrained=True)\n",
    "net_fn = ffn()"
   ]
  },
  {
   "cell_type": "code",
   "execution_count": 64,
   "id": "d5bf8d54-27b0-401d-8e9c-54d5292ad641",
   "metadata": {},
   "outputs": [
    {
     "name": "stdout",
     "output_type": "stream",
     "text": [
      "l1 Linear(in_features=13, out_features=50, bias=True)\n",
      "l2 Linear(in_features=50, out_features=1, bias=True)\n"
     ]
    }
   ],
   "source": [
    "for name, module in net_fn.named_modules():\n",
    "    if isinstance(module, nn.Linear):\n",
    "        print(name, module)"
   ]
  },
  {
   "cell_type": "code",
   "execution_count": null,
   "id": "8fe8ebb2-6430-4e18-a3c3-97e069923ba4",
   "metadata": {},
   "outputs": [],
   "source": []
  }
 ],
 "metadata": {
  "kernelspec": {
   "display_name": "Python 3 (ipykernel)",
   "language": "python",
   "name": "python3"
  },
  "language_info": {
   "codemirror_mode": {
    "name": "ipython",
    "version": 3
   },
   "file_extension": ".py",
   "mimetype": "text/x-python",
   "name": "python",
   "nbconvert_exporter": "python",
   "pygments_lexer": "ipython3",
   "version": "3.9.7"
  },
  "widgets": {
   "application/vnd.jupyter.widget-state+json": {
    "state": {
     "0692bcda6b4e41ed826f1c904bb8132b": {
      "model_module": "@jupyter-widgets/controls",
      "model_module_version": "1.5.0",
      "model_name": "ProgressStyleModel",
      "state": {
       "description_width": ""
      }
     },
     "096f631f1297468389cd18308d586367": {
      "model_module": "@jupyter-widgets/base",
      "model_module_version": "1.2.0",
      "model_name": "LayoutModel",
      "state": {}
     },
     "09cfd2a2cb3c4d57b304588f61fef7e4": {
      "model_module": "@jupyter-widgets/controls",
      "model_module_version": "1.5.0",
      "model_name": "DescriptionStyleModel",
      "state": {
       "description_width": ""
      }
     },
     "0d3529b57fb846cca4ed7f86185524ec": {
      "model_module": "@jupyter-widgets/controls",
      "model_module_version": "1.5.0",
      "model_name": "FloatProgressModel",
      "state": {
       "bar_style": "success",
       "layout": "IPY_MODEL_670d44aad0b74cc887a7c54e87458ba2",
       "max": 50,
       "style": "IPY_MODEL_0692bcda6b4e41ed826f1c904bb8132b",
       "value": 50
      }
     },
     "1042942457074831839d800267efad7e": {
      "model_module": "@jupyter-widgets/controls",
      "model_module_version": "1.5.0",
      "model_name": "ProgressStyleModel",
      "state": {
       "description_width": ""
      }
     },
     "17d65df0061b41c0910facc6c2314436": {
      "model_module": "@jupyter-widgets/controls",
      "model_module_version": "1.5.0",
      "model_name": "DescriptionStyleModel",
      "state": {
       "description_width": ""
      }
     },
     "1a066dccfde64fdd96c505e57c5bf6e2": {
      "model_module": "@jupyter-widgets/controls",
      "model_module_version": "1.5.0",
      "model_name": "ProgressStyleModel",
      "state": {
       "description_width": ""
      }
     },
     "1b7f1d72f3814302a185c72dc6e9dbbe": {
      "model_module": "@jupyter-widgets/controls",
      "model_module_version": "1.5.0",
      "model_name": "HTMLModel",
      "state": {
       "layout": "IPY_MODEL_e907f5b54d344c33a237763cfb5e27f0",
       "style": "IPY_MODEL_6213aaff2edd4535b39cd1abd5233176",
       "value": "100%"
      }
     },
     "1e40dd4176fa4c5bb92a0eb9b26bf819": {
      "model_module": "@jupyter-widgets/controls",
      "model_module_version": "1.5.0",
      "model_name": "HBoxModel",
      "state": {
       "children": [
        "IPY_MODEL_dbde0754abb7493e930c430f86fb4e83",
        "IPY_MODEL_ca0633075b394e018b3946b3a6465419",
        "IPY_MODEL_b3c4c15e102741b8a125522faf3fcd17"
       ],
       "layout": "IPY_MODEL_3b02af88477a471293f6e4916bc0d856"
      }
     },
     "2dfb8855e1684eeea1b931d51776e132": {
      "model_module": "@jupyter-widgets/base",
      "model_module_version": "1.2.0",
      "model_name": "LayoutModel",
      "state": {}
     },
     "31f2fed209c246be9c1fabf9020b3e3e": {
      "model_module": "@jupyter-widgets/base",
      "model_module_version": "1.2.0",
      "model_name": "LayoutModel",
      "state": {}
     },
     "3b02af88477a471293f6e4916bc0d856": {
      "model_module": "@jupyter-widgets/base",
      "model_module_version": "1.2.0",
      "model_name": "LayoutModel",
      "state": {}
     },
     "3ca2d309f204411090a2bf0404e42ba7": {
      "model_module": "@jupyter-widgets/controls",
      "model_module_version": "1.5.0",
      "model_name": "DescriptionStyleModel",
      "state": {
       "description_width": ""
      }
     },
     "42d654b0c9374b1cab4932380fc39964": {
      "model_module": "@jupyter-widgets/base",
      "model_module_version": "1.2.0",
      "model_name": "LayoutModel",
      "state": {}
     },
     "4fa5e494b7b44f3abb6693b631b1d2a4": {
      "model_module": "@jupyter-widgets/controls",
      "model_module_version": "1.5.0",
      "model_name": "HTMLModel",
      "state": {
       "layout": "IPY_MODEL_90e212e8ee8e4d4ab462ab6a51c3db8b",
       "style": "IPY_MODEL_3ca2d309f204411090a2bf0404e42ba7",
       "value": "100%"
      }
     },
     "57081a85ba404cd5b751184e1856e05e": {
      "model_module": "@jupyter-widgets/base",
      "model_module_version": "1.2.0",
      "model_name": "LayoutModel",
      "state": {}
     },
     "5a80e332cb0f430894a7e039ccc0e413": {
      "model_module": "@jupyter-widgets/controls",
      "model_module_version": "1.5.0",
      "model_name": "HBoxModel",
      "state": {
       "children": [
        "IPY_MODEL_4fa5e494b7b44f3abb6693b631b1d2a4",
        "IPY_MODEL_0d3529b57fb846cca4ed7f86185524ec",
        "IPY_MODEL_b8897aad57f54f6ca0a259be974b50dc"
       ],
       "layout": "IPY_MODEL_096f631f1297468389cd18308d586367"
      }
     },
     "5ca3bf05ae274c6d90b74bb9ad309e7c": {
      "model_module": "@jupyter-widgets/controls",
      "model_module_version": "1.5.0",
      "model_name": "HTMLModel",
      "state": {
       "layout": "IPY_MODEL_c5027412a44d4191b096957c09cc2e1b",
       "style": "IPY_MODEL_17d65df0061b41c0910facc6c2314436",
       "value": "100%"
      }
     },
     "60157a79b13a4b609310c5c5668f924e": {
      "model_module": "@jupyter-widgets/base",
      "model_module_version": "1.2.0",
      "model_name": "LayoutModel",
      "state": {}
     },
     "6213aaff2edd4535b39cd1abd5233176": {
      "model_module": "@jupyter-widgets/controls",
      "model_module_version": "1.5.0",
      "model_name": "DescriptionStyleModel",
      "state": {
       "description_width": ""
      }
     },
     "62e705be05a84dadbaa2483bf75febc0": {
      "model_module": "@jupyter-widgets/controls",
      "model_module_version": "1.5.0",
      "model_name": "DescriptionStyleModel",
      "state": {
       "description_width": ""
      }
     },
     "659649026d524ca3b7fc6d03589c3cf5": {
      "model_module": "@jupyter-widgets/base",
      "model_module_version": "1.2.0",
      "model_name": "LayoutModel",
      "state": {}
     },
     "66f605392caf4fdc95bde308288a49b5": {
      "model_module": "@jupyter-widgets/controls",
      "model_module_version": "1.5.0",
      "model_name": "HTMLModel",
      "state": {
       "layout": "IPY_MODEL_ea7ccf75137f4fa3b55e413ccbcf0517",
       "style": "IPY_MODEL_cab34247ab8a41bcb7ac9fc4f5b8dfbf",
       "value": " 50/50 [00:00&lt;00:00, 124.11it/s, loss=0.812]"
      }
     },
     "670d44aad0b74cc887a7c54e87458ba2": {
      "model_module": "@jupyter-widgets/base",
      "model_module_version": "1.2.0",
      "model_name": "LayoutModel",
      "state": {}
     },
     "69ee9ca749744f0d8ef7e2639018d141": {
      "model_module": "@jupyter-widgets/base",
      "model_module_version": "1.2.0",
      "model_name": "LayoutModel",
      "state": {}
     },
     "6b153e58eb484edfa0677d68bea604a1": {
      "model_module": "@jupyter-widgets/base",
      "model_module_version": "1.2.0",
      "model_name": "LayoutModel",
      "state": {}
     },
     "6eddbe8d70ee49a6b201d0b80c3e458e": {
      "model_module": "@jupyter-widgets/controls",
      "model_module_version": "1.5.0",
      "model_name": "ProgressStyleModel",
      "state": {
       "description_width": ""
      }
     },
     "738dc281e5194c7dacab436dfd2431bb": {
      "model_module": "@jupyter-widgets/controls",
      "model_module_version": "1.5.0",
      "model_name": "HTMLModel",
      "state": {
       "layout": "IPY_MODEL_b90fe6e8b0a745098bec39897e1eb04d",
       "style": "IPY_MODEL_b7820c2dd1da44469359a830efd4afe4",
       "value": "100%"
      }
     },
     "78675002899e4f599c003385c252bcdd": {
      "model_module": "@jupyter-widgets/controls",
      "model_module_version": "1.5.0",
      "model_name": "HTMLModel",
      "state": {
       "layout": "IPY_MODEL_57081a85ba404cd5b751184e1856e05e",
       "style": "IPY_MODEL_8187f7d3553c4de0ab52a53392907913",
       "value": " 50/50 [00:01&lt;00:00, 59.16it/s, loss=0.812]"
      }
     },
     "79bda441adc949d7b68d3fa7ef164a60": {
      "model_module": "@jupyter-widgets/base",
      "model_module_version": "1.2.0",
      "model_name": "LayoutModel",
      "state": {}
     },
     "7cadb4614958455f95617eea8e8634a2": {
      "model_module": "@jupyter-widgets/controls",
      "model_module_version": "1.5.0",
      "model_name": "FloatProgressModel",
      "state": {
       "bar_style": "success",
       "layout": "IPY_MODEL_6b153e58eb484edfa0677d68bea604a1",
       "max": 50,
       "style": "IPY_MODEL_b4ca2f4be6484ee2a060ef10b8c1cbe2",
       "value": 50
      }
     },
     "7f364c9f3b054c9095a32d00efeede98": {
      "model_module": "@jupyter-widgets/controls",
      "model_module_version": "1.5.0",
      "model_name": "FloatProgressModel",
      "state": {
       "bar_style": "success",
       "layout": "IPY_MODEL_9df07a863f274a7a870e1628b225f8be",
       "max": 50,
       "style": "IPY_MODEL_6eddbe8d70ee49a6b201d0b80c3e458e",
       "value": 50
      }
     },
     "8187f7d3553c4de0ab52a53392907913": {
      "model_module": "@jupyter-widgets/controls",
      "model_module_version": "1.5.0",
      "model_name": "DescriptionStyleModel",
      "state": {
       "description_width": ""
      }
     },
     "90e212e8ee8e4d4ab462ab6a51c3db8b": {
      "model_module": "@jupyter-widgets/base",
      "model_module_version": "1.2.0",
      "model_name": "LayoutModel",
      "state": {}
     },
     "9914bbf1af68440992dc246898895c7e": {
      "model_module": "@jupyter-widgets/base",
      "model_module_version": "1.2.0",
      "model_name": "LayoutModel",
      "state": {}
     },
     "9df07a863f274a7a870e1628b225f8be": {
      "model_module": "@jupyter-widgets/base",
      "model_module_version": "1.2.0",
      "model_name": "LayoutModel",
      "state": {}
     },
     "a08f57ca01614f968c969f0b15011108": {
      "model_module": "@jupyter-widgets/controls",
      "model_module_version": "1.5.0",
      "model_name": "DescriptionStyleModel",
      "state": {
       "description_width": ""
      }
     },
     "b3c4c15e102741b8a125522faf3fcd17": {
      "model_module": "@jupyter-widgets/controls",
      "model_module_version": "1.5.0",
      "model_name": "HTMLModel",
      "state": {
       "layout": "IPY_MODEL_f2fd2124a9e0477f859ec329d7935eb9",
       "style": "IPY_MODEL_62e705be05a84dadbaa2483bf75febc0",
       "value": " 50/50 [00:01&lt;00:00, 57.57it/s, loss=0.812]"
      }
     },
     "b4ca2f4be6484ee2a060ef10b8c1cbe2": {
      "model_module": "@jupyter-widgets/controls",
      "model_module_version": "1.5.0",
      "model_name": "ProgressStyleModel",
      "state": {
       "description_width": ""
      }
     },
     "b7820c2dd1da44469359a830efd4afe4": {
      "model_module": "@jupyter-widgets/controls",
      "model_module_version": "1.5.0",
      "model_name": "DescriptionStyleModel",
      "state": {
       "description_width": ""
      }
     },
     "b8897aad57f54f6ca0a259be974b50dc": {
      "model_module": "@jupyter-widgets/controls",
      "model_module_version": "1.5.0",
      "model_name": "HTMLModel",
      "state": {
       "layout": "IPY_MODEL_60157a79b13a4b609310c5c5668f924e",
       "style": "IPY_MODEL_a08f57ca01614f968c969f0b15011108",
       "value": " 50/50 [00:01&lt;00:00, 63.20it/s, loss=0.812]"
      }
     },
     "b90fe6e8b0a745098bec39897e1eb04d": {
      "model_module": "@jupyter-widgets/base",
      "model_module_version": "1.2.0",
      "model_name": "LayoutModel",
      "state": {}
     },
     "bca830da471b4eab88ccd1707771f137": {
      "model_module": "@jupyter-widgets/controls",
      "model_module_version": "1.5.0",
      "model_name": "FloatProgressModel",
      "state": {
       "bar_style": "success",
       "layout": "IPY_MODEL_42d654b0c9374b1cab4932380fc39964",
       "max": 50,
       "style": "IPY_MODEL_1042942457074831839d800267efad7e",
       "value": 50
      }
     },
     "bcd645b008ab4215aeebfb322206cc63": {
      "model_module": "@jupyter-widgets/controls",
      "model_module_version": "1.5.0",
      "model_name": "HTMLModel",
      "state": {
       "layout": "IPY_MODEL_659649026d524ca3b7fc6d03589c3cf5",
       "style": "IPY_MODEL_df3e80cca5a24c21aaa6464ddddb5647",
       "value": " 50/50 [00:00&lt;00:00, 123.51it/s, loss=0.812]"
      }
     },
     "be367c8d76fa4bce99f80ca41b1e119e": {
      "model_module": "@jupyter-widgets/controls",
      "model_module_version": "1.5.0",
      "model_name": "HBoxModel",
      "state": {
       "children": [
        "IPY_MODEL_1b7f1d72f3814302a185c72dc6e9dbbe",
        "IPY_MODEL_7cadb4614958455f95617eea8e8634a2",
        "IPY_MODEL_bcd645b008ab4215aeebfb322206cc63"
       ],
       "layout": "IPY_MODEL_31f2fed209c246be9c1fabf9020b3e3e"
      }
     },
     "c5027412a44d4191b096957c09cc2e1b": {
      "model_module": "@jupyter-widgets/base",
      "model_module_version": "1.2.0",
      "model_name": "LayoutModel",
      "state": {}
     },
     "ca0633075b394e018b3946b3a6465419": {
      "model_module": "@jupyter-widgets/controls",
      "model_module_version": "1.5.0",
      "model_name": "FloatProgressModel",
      "state": {
       "bar_style": "success",
       "layout": "IPY_MODEL_69ee9ca749744f0d8ef7e2639018d141",
       "max": 50,
       "style": "IPY_MODEL_1a066dccfde64fdd96c505e57c5bf6e2",
       "value": 50
      }
     },
     "cab34247ab8a41bcb7ac9fc4f5b8dfbf": {
      "model_module": "@jupyter-widgets/controls",
      "model_module_version": "1.5.0",
      "model_name": "DescriptionStyleModel",
      "state": {
       "description_width": ""
      }
     },
     "cc7546bf64b641a594c81fb984a3c7e5": {
      "model_module": "@jupyter-widgets/controls",
      "model_module_version": "1.5.0",
      "model_name": "HBoxModel",
      "state": {
       "children": [
        "IPY_MODEL_738dc281e5194c7dacab436dfd2431bb",
        "IPY_MODEL_bca830da471b4eab88ccd1707771f137",
        "IPY_MODEL_78675002899e4f599c003385c252bcdd"
       ],
       "layout": "IPY_MODEL_9914bbf1af68440992dc246898895c7e"
      }
     },
     "dbde0754abb7493e930c430f86fb4e83": {
      "model_module": "@jupyter-widgets/controls",
      "model_module_version": "1.5.0",
      "model_name": "HTMLModel",
      "state": {
       "layout": "IPY_MODEL_2dfb8855e1684eeea1b931d51776e132",
       "style": "IPY_MODEL_09cfd2a2cb3c4d57b304588f61fef7e4",
       "value": "100%"
      }
     },
     "df3e80cca5a24c21aaa6464ddddb5647": {
      "model_module": "@jupyter-widgets/controls",
      "model_module_version": "1.5.0",
      "model_name": "DescriptionStyleModel",
      "state": {
       "description_width": ""
      }
     },
     "e907f5b54d344c33a237763cfb5e27f0": {
      "model_module": "@jupyter-widgets/base",
      "model_module_version": "1.2.0",
      "model_name": "LayoutModel",
      "state": {}
     },
     "ea7ccf75137f4fa3b55e413ccbcf0517": {
      "model_module": "@jupyter-widgets/base",
      "model_module_version": "1.2.0",
      "model_name": "LayoutModel",
      "state": {}
     },
     "edd71448de3a4061bbe5c9d6604e0434": {
      "model_module": "@jupyter-widgets/controls",
      "model_module_version": "1.5.0",
      "model_name": "HBoxModel",
      "state": {
       "children": [
        "IPY_MODEL_5ca3bf05ae274c6d90b74bb9ad309e7c",
        "IPY_MODEL_7f364c9f3b054c9095a32d00efeede98",
        "IPY_MODEL_66f605392caf4fdc95bde308288a49b5"
       ],
       "layout": "IPY_MODEL_79bda441adc949d7b68d3fa7ef164a60"
      }
     },
     "f2fd2124a9e0477f859ec329d7935eb9": {
      "model_module": "@jupyter-widgets/base",
      "model_module_version": "1.2.0",
      "model_name": "LayoutModel",
      "state": {}
     }
    },
    "version_major": 2,
    "version_minor": 0
   }
  }
 },
 "nbformat": 4,
 "nbformat_minor": 5
}
