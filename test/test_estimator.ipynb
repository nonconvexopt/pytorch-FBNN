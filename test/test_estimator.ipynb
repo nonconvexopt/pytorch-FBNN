{
 "cells": [
  {
   "cell_type": "code",
   "execution_count": 1,
   "id": "841317e1-f4b4-435d-b104-0eb6ae2cc5ce",
   "metadata": {},
   "outputs": [],
   "source": [
    "import sys\n",
    "import tqdm\n",
    "import math\n",
    "\n",
    "import torch\n",
    "import torch.nn as nn\n",
    "import torch.nn.functional as F\n",
    "import gpytorch\n",
    "import matplotlib.pyplot as plt\n",
    "\n",
    "sys.path.append(\"../\")\n",
    "from estimator import SSGE"
   ]
  },
  {
   "cell_type": "code",
   "execution_count": 2,
   "id": "8d504a19-7ab3-40ba-9b67-b3909d21be37",
   "metadata": {},
   "outputs": [],
   "source": [
    "kernel = gpytorch.kernels.ScaleKernel(\n",
    "    gpytorch.kernels.MaternKernel(\n",
    "        ard_num_dims = 10\n",
    "    )\n",
    ")"
   ]
  },
  {
   "cell_type": "code",
   "execution_count": 3,
   "id": "9e33c4d1-27da-4f7f-b95a-e8dc596ed675",
   "metadata": {},
   "outputs": [],
   "source": [
    "estimator = SSGE(\n",
    "    gpytorch.kernels.ScaleKernel(\n",
    "        gpytorch.kernels.MaternKernel(\n",
    "            ard_num_dims = 10\n",
    "        )\n",
    "    )\n",
    ")"
   ]
  },
  {
   "cell_type": "code",
   "execution_count": 4,
   "id": "ccc05a25-44ca-42d0-b095-d6ce3a6a891a",
   "metadata": {},
   "outputs": [],
   "source": [
    "dist = torch.distributions.multivariate_normal.MultivariateNormal(\n",
    "    torch.zeros(10),\n",
    "    torch.eye(10),\n",
    ")"
   ]
  },
  {
   "cell_type": "code",
   "execution_count": 5,
   "id": "046d1700-b220-4657-9c18-ed8e5e4f9d5e",
   "metadata": {},
   "outputs": [],
   "source": [
    "sample = dist.sample([100])\n",
    "sample.requires_grad_(True)\n",
    "estimator.fit(sample)"
   ]
  },
  {
   "cell_type": "code",
   "execution_count": 6,
   "id": "fe43df49-b4c7-460d-a7ae-4b18600c9a45",
   "metadata": {},
   "outputs": [
    {
     "data": {
      "text/plain": [
       "torch.Size([100, 10])"
      ]
     },
     "execution_count": 6,
     "metadata": {},
     "output_type": "execute_result"
    }
   ],
   "source": [
    "test_sample = dist.sample([100])\n",
    "test_sample.requires_grad_(True)\n",
    "estimator.grad(test_sample).shape"
   ]
  },
  {
   "cell_type": "markdown",
   "id": "33349dc8-aafb-439b-b34c-1eb9a23902bc",
   "metadata": {},
   "source": [
    "<h4>Error shrinks as the fitted sample size increases. </h4>"
   ]
  },
  {
   "cell_type": "code",
   "execution_count": 7,
   "id": "4860b7c1-49c4-4409-bb56-22becb46c27a",
   "metadata": {},
   "outputs": [
    {
     "name": "stderr",
     "output_type": "stream",
     "text": [
      "100%|██████████████████████████████████████████████████████████████████████| 49/49 [00:41<00:00,  1.17it/s]\n"
     ]
    }
   ],
   "source": [
    "res = []\n",
    "for num_sample in tqdm.tqdm(range(1, 50)):\n",
    "    kernel = gpytorch.kernels.ScaleKernel(\n",
    "        gpytorch.kernels.MaternKernel(\n",
    "            ard_num_dims = 10\n",
    "        )\n",
    "    )\n",
    "    \n",
    "    estimator = SSGE(\n",
    "        gpytorch.kernels.ScaleKernel(\n",
    "            gpytorch.kernels.MaternKernel(\n",
    "                ard_num_dims = 10\n",
    "            )\n",
    "        )\n",
    "    )\n",
    "    \n",
    "    sample = dist.sample([num_sample * 10])\n",
    "    sample.requires_grad_(True)\n",
    "    estimator.fit(sample)\n",
    "\n",
    "    test_sample = dist.sample([1000])\n",
    "    test_sample.requires_grad_(True)\n",
    "    grad_hat = estimator.grad(test_sample)\n",
    "    dist.log_prob(test_sample).sum().backward()\n",
    "    res.append(torch.dist(grad_hat, test_sample.grad) / num_sample)"
   ]
  },
  {
   "cell_type": "code",
   "execution_count": 8,
   "id": "597ddbcf-a8ef-4ef7-b6da-b83436b16f88",
   "metadata": {},
   "outputs": [
    {
     "data": {
      "text/plain": [
       "[<matplotlib.lines.Line2D at 0x7fe1c62e9b50>]"
      ]
     },
     "execution_count": 8,
     "metadata": {},
     "output_type": "execute_result"
    },
    {
     "data": {
      "image/png": "[encoded data removed]",
      "text/plain": [
       "<Figure size 432x288 with 1 Axes>"
      ]
     },
     "metadata": {
      "needs_background": "light"
     },
     "output_type": "display_data"
    }
   ],
   "source": [
    "plt.plot(range(1,50), res)"
   ]
  },
  {
   "cell_type": "markdown",
   "id": "0678df24-40a9-4ad8-886e-f007f539a9eb",
   "metadata": {},
   "source": [
    "<h4>Error shrinks as the test sample size increases. </h4>"
   ]
  },
  {
   "cell_type": "code",
   "execution_count": 9,
   "id": "62928583-2993-4d18-a681-7be4da953932",
   "metadata": {},
   "outputs": [
    {
     "name": "stderr",
     "output_type": "stream",
     "text": [
      "100%|████████████████████████████████████████████████████████████████████| 499/499 [01:10<00:00,  7.11it/s]\n"
     ]
    }
   ],
   "source": [
    "res = []\n",
    "for num_sample in tqdm.tqdm(range(1, 500)):\n",
    "    test_sample = dist.sample([num_sample * 10])\n",
    "    test_sample.requires_grad_(True)\n",
    "    grad_hat = estimator.grad(test_sample)\n",
    "    dist.log_prob(test_sample).sum().backward()\n",
    "    res.append(torch.dist(grad_hat, test_sample.grad) / num_sample)"
   ]
  },
  {
   "cell_type": "code",
   "execution_count": 10,
   "id": "4a4c9b07-adef-4f42-9751-f4931563f690",
   "metadata": {},
   "outputs": [
    {
     "data": {
      "text/plain": [
       "[<matplotlib.lines.Line2D at 0x7fe1c59b4370>]"
      ]
     },
     "execution_count": 10,
     "metadata": {},
     "output_type": "execute_result"
    },
    {
     "data": {
      "image/png": "[encoded data removed]",
      "text/plain": [
       "<Figure size 432x288 with 1 Axes>"
      ]
     },
     "metadata": {
      "needs_background": "light"
     },
     "output_type": "display_data"
    }
   ],
   "source": [
    "plt.plot(range(1,500), res)"
   ]
  }
 ],
 "metadata": {
  "kernelspec": {
   "display_name": "Python 3 (ipykernel)",
   "language": "python",
   "name": "python3"
  },
  "language_info": {
   "codemirror_mode": {
    "name": "ipython",
    "version": 3
   },
   "file_extension": ".py",
   "mimetype": "text/x-python",
   "name": "python",
   "nbconvert_exporter": "python",
   "pygments_lexer": "ipython3",
   "version": "3.9.7"
  },
  "widgets": {
   "application/vnd.jupyter.widget-state+json": {
    "state": {},
    "version_major": 2,
    "version_minor": 0
   }
  }
 },
 "nbformat": 4,
 "nbformat_minor": 5
}
