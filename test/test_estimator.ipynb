{
 "cells": [
  {
   "cell_type": "code",
   "execution_count": 12,
   "id": "841317e1-f4b4-435d-b104-0eb6ae2cc5ce",
   "metadata": {},
   "outputs": [],
   "source": [
    "import sys\n",
    "import tqdm\n",
    "import math\n",
    "\n",
    "import torch\n",
    "import torch.nn as nn\n",
    "import torch.nn.functional as F\n",
    "import gpytorch\n",
    "import matplotlib.pyplot as plt\n",
    "\n",
    "sys.path.append(\"../\")\n",
    "from estimator import ssge"
   ]
  },
  {
   "cell_type": "code",
   "execution_count": 33,
   "id": "4718b681-36c4-49fa-9620-7ff5b44473aa",
   "metadata": {},
   "outputs": [],
   "source": [
    "class SSGE:\n",
    "    def __init__(self, kernel: gpytorch.kernels.Kernel, eig_prop_threshold = 0.99, noise = 1e-8):\n",
    "        self.kernel = kernel\n",
    "        self.noise = noise\n",
    "        self.eig_prop_threshold = eig_prop_threshold\n",
    "        \n",
    "        self.sample = None\n",
    "        self.gram = None\n",
    "        \n",
    "        self.m = 0\n",
    "        self.K = None\n",
    "        self.eigval = None\n",
    "        self.eigvec = None\n",
    "        \n",
    "    def fit(self, sample: torch.Tensor) -> None:\n",
    "        assert sample.requires_grad\n",
    "        \n",
    "        if self.sample is not None:\n",
    "            self.sample = torch.cat([self.sample, sample], axis = 0)\n",
    "        else:\n",
    "            self.sample = sample\n",
    "\n",
    "        self.m = self.sample.shape[0]\n",
    "        self.dim = self.sample.shape[1]\n",
    "        self.K = self.kernel(self.sample).evaluate()\n",
    "        if self.noise:\n",
    "            self.K = self.K + self.noise * torch.eye(self.m, device = self.sample.device)\n",
    "        \n",
    "        self.eigval, self.eigvec = torch.linalg.eigh(self.K)\n",
    "        #Tried to use torch.lobpcg as alternative to torch.linalg.eigh\n",
    "        #but it seem is not stable yet.\n",
    "        #self.eigval, self.eigvec = torch.lobpcg(self.K, min(self.m // 3, self.dim))\n",
    "        with torch.no_grad():\n",
    "            eig_props = self.eigval.cumsum(-1) / self.eigval.sum(-1, keepdims = True)\n",
    "            eig_props *= eig_props < self.eig_prop_threshold\n",
    "            self.j = torch.argmax(eig_props, -1)\n",
    "        self.eigval = self.eigval[:self.j]\n",
    "        self.eigvec = self.eigvec[:, :self.j]\n",
    "        assert (self.eigval > 0).all(), \"Kernel matrix is not postive definite.\"\n",
    "        \n",
    "        input_tensor = self.sample.unsqueeze(-1).repeat(1, 1, self.j)\n",
    "        eigfun_hat = math.sqrt(self.m) * torch.einsum(\n",
    "            \"jnm,mk,k->j\",\n",
    "            self.kernel(torch.einsum(\"ndj->jnd\", input_tensor), self.sample).evaluate(),\n",
    "            self.eigvec,\n",
    "            self.eigval.reciprocal()\n",
    "        )\n",
    "        #beta should have size d x j\n",
    "        self.beta = - torch.autograd.grad(\n",
    "            outputs = eigfun_hat,\n",
    "            grad_outputs = torch.ones(eigfun_hat.shape, device = eigfun_hat.device),\n",
    "            inputs = input_tensor,\n",
    "            retain_graph = True,\n",
    "        )[0].mean(0)\n",
    "        \n",
    "    def grad(self, x: torch.Tensor) -> torch.Tensor:\n",
    "        \n",
    "        assert x.requires_grad\n",
    "        \n",
    "        K_wing = self.kernel(x, self.sample).evaluate()\n",
    "        eigfun_hat = math.sqrt(self.m) * torch.einsum(\"nm,mj->nj\", K_wing, self.eigvec) / self.eigval\n",
    "        gradfun_hat = torch.einsum(\"nj,mj->nm\", eigfun_hat, self.beta)\n",
    "        return torch.autograd.grad(\n",
    "            outputs = gradfun_hat,\n",
    "            grad_outputs = torch.ones(gradfun_hat.shape, device = gradfun_hat.device),\n",
    "            inputs = x,\n",
    "        )[0]"
   ]
  },
  {
   "cell_type": "code",
   "execution_count": 34,
   "id": "8d504a19-7ab3-40ba-9b67-b3909d21be37",
   "metadata": {},
   "outputs": [],
   "source": [
    "kernel = gpytorch.kernels.ScaleKernel(\n",
    "    gpytorch.kernels.MaternKernel(\n",
    "        ard_num_dims = 10\n",
    "    )\n",
    ")"
   ]
  },
  {
   "cell_type": "code",
   "execution_count": 35,
   "id": "9e33c4d1-27da-4f7f-b95a-e8dc596ed675",
   "metadata": {},
   "outputs": [],
   "source": [
    "estimator = SSGE(\n",
    "    gpytorch.kernels.ScaleKernel(\n",
    "        gpytorch.kernels.MaternKernel(\n",
    "            ard_num_dims = 10\n",
    "        )\n",
    "    )\n",
    ")"
   ]
  },
  {
   "cell_type": "code",
   "execution_count": 36,
   "id": "ccc05a25-44ca-42d0-b095-d6ce3a6a891a",
   "metadata": {},
   "outputs": [],
   "source": [
    "dist = torch.distributions.multivariate_normal.MultivariateNormal(\n",
    "    torch.zeros(10),\n",
    "    torch.eye(10),\n",
    ")"
   ]
  },
  {
   "cell_type": "code",
   "execution_count": 37,
   "id": "046d1700-b220-4657-9c18-ed8e5e4f9d5e",
   "metadata": {},
   "outputs": [],
   "source": [
    "sample = dist.sample([100])\n",
    "sample.requires_grad_(True)\n",
    "estimator.fit(sample)"
   ]
  },
  {
   "cell_type": "code",
   "execution_count": 38,
   "id": "fe43df49-b4c7-460d-a7ae-4b18600c9a45",
   "metadata": {},
   "outputs": [
    {
     "data": {
      "text/plain": [
       "torch.Size([100, 10])"
      ]
     },
     "execution_count": 38,
     "metadata": {},
     "output_type": "execute_result"
    }
   ],
   "source": [
    "test_sample = dist.sample([100])\n",
    "test_sample.requires_grad_(True)\n",
    "estimator.grad(test_sample).shape"
   ]
  },
  {
   "cell_type": "markdown",
   "id": "0678df24-40a9-4ad8-886e-f007f539a9eb",
   "metadata": {},
   "source": [
    "<h4>Error shrinks as the test sample size increases. </h4>"
   ]
  },
  {
   "cell_type": "code",
   "execution_count": 48,
   "id": "62928583-2993-4d18-a681-7be4da953932",
   "metadata": {},
   "outputs": [
    {
     "name": "stderr",
     "output_type": "stream",
     "text": [
      "100%|████████████████████████████████████████████████████████████████████| 499/499 [00:06<00:00, 78.20it/s]\n"
     ]
    }
   ],
   "source": [
    "res = []\n",
    "for num_sample in tqdm.tqdm(range(1, 500)):\n",
    "    test_sample = dist.sample([num_sample * 10])\n",
    "    test_sample.requires_grad_(True)\n",
    "    grad_hat = estimator.grad(test_sample)\n",
    "    dist.log_prob(test_sample).sum().backward()\n",
    "    res.append(torch.dist(grad_hat, test_sample.grad) / num_sample)"
   ]
  },
  {
   "cell_type": "code",
   "execution_count": 49,
   "id": "4a4c9b07-adef-4f42-9751-f4931563f690",
   "metadata": {},
   "outputs": [
    {
     "data": {
      "text/plain": [
       "[<matplotlib.lines.Line2D at 0x7fabdbae2820>]"
      ]
     },
     "execution_count": 49,
     "metadata": {},
     "output_type": "execute_result"
    },
    {
     "data": {
      "image/png": "[encoded data removed]",
      "text/plain": [
       "<Figure size 432x288 with 1 Axes>"
      ]
     },
     "metadata": {
      "needs_background": "light"
     },
     "output_type": "display_data"
    }
   ],
   "source": [
    "plt.plot(range(1,500), res)"
   ]
  },
  {
   "cell_type": "code",
   "execution_count": 24,
   "id": "d2d3fcdb-7d4c-48bb-926d-3dc0a161ad1b",
   "metadata": {},
   "outputs": [
    {
     "data": {
      "text/plain": [
       "tensor([-0.0568,  0.2691,  0.0079,  0.0071,  0.3260, -0.4089,  0.1852, -0.1786,\n",
       "         0.0917,  0.2401])"
      ]
     },
     "execution_count": 24,
     "metadata": {},
     "output_type": "execute_result"
    }
   ],
   "source": [
    "test_sample = dist.sample([10])\n",
    "test_sample.requires_grad_(True)\n",
    "dist.log_prob(test_sample).sum().backward()\n",
    "test_sample.grad.mean(0)"
   ]
  },
  {
   "cell_type": "code",
   "execution_count": null,
   "id": "4938de9e-7329-49d7-a16a-e5196f39b8b5",
   "metadata": {},
   "outputs": [],
   "source": []
  }
 ],
 "metadata": {
  "kernelspec": {
   "display_name": "Python 3 (ipykernel)",
   "language": "python",
   "name": "python3"
  },
  "language_info": {
   "codemirror_mode": {
    "name": "ipython",
    "version": 3
   },
   "file_extension": ".py",
   "mimetype": "text/x-python",
   "name": "python",
   "nbconvert_exporter": "python",
   "pygments_lexer": "ipython3",
   "version": "3.9.7"
  },
  "widgets": {
   "application/vnd.jupyter.widget-state+json": {
    "state": {},
    "version_major": 2,
    "version_minor": 0
   }
  }
 },
 "nbformat": 4,
 "nbformat_minor": 5
}
